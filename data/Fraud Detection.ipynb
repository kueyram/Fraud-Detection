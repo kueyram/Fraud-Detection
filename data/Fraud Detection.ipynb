{
 "cells": [
  {
   "cell_type": "markdown",
   "id": "270e1cdc",
   "metadata": {},
   "source": [
    "#### Fraud detection"
   ]
  },
  {
   "cell_type": "code",
   "execution_count": 1,
   "id": "3138c402",
   "metadata": {},
   "outputs": [],
   "source": [
    "# Importint required librairies\n",
    "import os\n",
    "import pandas as pd\n",
    "import numpy as np\n",
    "from sklearn.preprocessing import LabelEncoder, StandardScaler\n",
    "from sklearn.model_selection import train_test_split\n",
    "from sklearn.preprocessing import LabelEncoder, StandardScaler\n",
    "from sklearn.linear_model import LogisticRegression\n",
    "from sklearn.metrics import classification_report, confusion_matrix, accuracy_score\n",
    "import pickle\n",
    "import seaborn as sns\n",
    "import matplotlib.pyplot as plt"
   ]
  },
  {
   "cell_type": "code",
   "execution_count": 2,
   "id": "751c350e",
   "metadata": {},
   "outputs": [
    {
     "name": "stdout",
     "output_type": "stream",
     "text": [
      "Dataset downloaded to ./data\n"
     ]
    }
   ],
   "source": [
    "# Let's download the datasets and saved them in the data subfolder\n",
    "\n",
    "dataset_path = \"eyramkueviakoe/credit-card-transactions\"\n",
    "output_dir = \"./data\"\n",
    "\n",
    "os.system(f\"kaggle datasets download -d {dataset_path} -p {output_dir} --unzip\")\n",
    "print(f\"Dataset downloaded to {output_dir}\")"
   ]
  },
  {
   "cell_type": "code",
   "execution_count": 3,
   "id": "673e8e06",
   "metadata": {},
   "outputs": [
    {
     "name": "stdout",
     "output_type": "stream",
     "text": [
      "<class 'pandas.core.frame.DataFrame'>\n",
      "RangeIndex: 1296675 entries, 0 to 1296674\n",
      "Data columns (total 23 columns):\n",
      " #   Column                 Non-Null Count    Dtype  \n",
      "---  ------                 --------------    -----  \n",
      " 0   Unnamed: 0             1296675 non-null  int64  \n",
      " 1   trans_date_trans_time  1296675 non-null  object \n",
      " 2   cc_num                 1296675 non-null  int64  \n",
      " 3   merchant               1296675 non-null  object \n",
      " 4   category               1296675 non-null  object \n",
      " 5   amt                    1296675 non-null  float64\n",
      " 6   first                  1296675 non-null  object \n",
      " 7   last                   1296675 non-null  object \n",
      " 8   gender                 1296675 non-null  object \n",
      " 9   street                 1296675 non-null  object \n",
      " 10  city                   1296675 non-null  object \n",
      " 11  state                  1296675 non-null  object \n",
      " 12  zip                    1296675 non-null  int64  \n",
      " 13  lat                    1296675 non-null  float64\n",
      " 14  long                   1296675 non-null  float64\n",
      " 15  city_pop               1296675 non-null  int64  \n",
      " 16  job                    1296675 non-null  object \n",
      " 17  dob                    1296675 non-null  object \n",
      " 18  trans_num              1296675 non-null  object \n",
      " 19  unix_time              1296675 non-null  int64  \n",
      " 20  merch_lat              1296675 non-null  float64\n",
      " 21  merch_long             1296675 non-null  float64\n",
      " 22  is_fraud               1296675 non-null  int64  \n",
      "dtypes: float64(5), int64(6), object(12)\n",
      "memory usage: 227.5+ MB\n"
     ]
    },
    {
     "data": {
      "text/plain": [
       "(1296675, 23)"
      ]
     },
     "execution_count": 3,
     "metadata": {},
     "output_type": "execute_result"
    }
   ],
   "source": [
    "# Importing the datasets into pandas\n",
    "card_transactions = pd.read_csv('./data/cardtransactions.csv', sep=',')\n",
    "\n",
    "# Checking the dataset info\n",
    "card_transactions.info()\n",
    "\n",
    "# Checking the shape of the dataset\n",
    "card_transactions.shape"
   ]
  },
  {
   "cell_type": "code",
   "execution_count": 4,
   "id": "47bf7621",
   "metadata": {},
   "outputs": [
    {
     "data": {
      "text/html": [
       "<div>\n",
       "<style scoped>\n",
       "    .dataframe tbody tr th:only-of-type {\n",
       "        vertical-align: middle;\n",
       "    }\n",
       "\n",
       "    .dataframe tbody tr th {\n",
       "        vertical-align: top;\n",
       "    }\n",
       "\n",
       "    .dataframe thead th {\n",
       "        text-align: right;\n",
       "    }\n",
       "</style>\n",
       "<table border=\"1\" class=\"dataframe\">\n",
       "  <thead>\n",
       "    <tr style=\"text-align: right;\">\n",
       "      <th></th>\n",
       "      <th>Unnamed: 0</th>\n",
       "      <th>trans_date_trans_time</th>\n",
       "      <th>cc_num</th>\n",
       "      <th>merchant</th>\n",
       "      <th>category</th>\n",
       "      <th>amt</th>\n",
       "      <th>first</th>\n",
       "      <th>last</th>\n",
       "      <th>gender</th>\n",
       "      <th>street</th>\n",
       "      <th>...</th>\n",
       "      <th>lat</th>\n",
       "      <th>long</th>\n",
       "      <th>city_pop</th>\n",
       "      <th>job</th>\n",
       "      <th>dob</th>\n",
       "      <th>trans_num</th>\n",
       "      <th>unix_time</th>\n",
       "      <th>merch_lat</th>\n",
       "      <th>merch_long</th>\n",
       "      <th>is_fraud</th>\n",
       "    </tr>\n",
       "  </thead>\n",
       "  <tbody>\n",
       "    <tr>\n",
       "      <th>617408</th>\n",
       "      <td>617408</td>\n",
       "      <td>2019-09-19 19:01:54</td>\n",
       "      <td>3566094707272327</td>\n",
       "      <td>fraud_Crooks and Sons</td>\n",
       "      <td>personal_care</td>\n",
       "      <td>38.80</td>\n",
       "      <td>Kristina</td>\n",
       "      <td>Stewart</td>\n",
       "      <td>F</td>\n",
       "      <td>47029 Jimmy Tunnel Apt. 106</td>\n",
       "      <td>...</td>\n",
       "      <td>34.3795</td>\n",
       "      <td>-118.5230</td>\n",
       "      <td>34882</td>\n",
       "      <td>Health physicist</td>\n",
       "      <td>1971-04-25</td>\n",
       "      <td>68bc663ed9e0df6ad4b7df4bb007adbc</td>\n",
       "      <td>1348081314</td>\n",
       "      <td>33.837654</td>\n",
       "      <td>-117.783016</td>\n",
       "      <td>0</td>\n",
       "    </tr>\n",
       "    <tr>\n",
       "      <th>266031</th>\n",
       "      <td>266031</td>\n",
       "      <td>2019-05-12 08:26:22</td>\n",
       "      <td>213112402583773</td>\n",
       "      <td>fraud_Stokes, Christiansen and Sipes</td>\n",
       "      <td>grocery_net</td>\n",
       "      <td>96.73</td>\n",
       "      <td>Ana</td>\n",
       "      <td>Howell</td>\n",
       "      <td>F</td>\n",
       "      <td>4664 Sanchez Common Suite 930</td>\n",
       "      <td>...</td>\n",
       "      <td>34.0326</td>\n",
       "      <td>-82.2027</td>\n",
       "      <td>1523</td>\n",
       "      <td>Research scientist (physical sciences)</td>\n",
       "      <td>1984-06-03</td>\n",
       "      <td>ad7df921e8eb780f3b39f6fe05cc6433</td>\n",
       "      <td>1336811182</td>\n",
       "      <td>33.813007</td>\n",
       "      <td>-81.242100</td>\n",
       "      <td>0</td>\n",
       "    </tr>\n",
       "    <tr>\n",
       "      <th>824888</th>\n",
       "      <td>824888</td>\n",
       "      <td>2019-12-09 14:15:24</td>\n",
       "      <td>4972228199573984</td>\n",
       "      <td>fraud_Rau-Robel</td>\n",
       "      <td>kids_pets</td>\n",
       "      <td>227.59</td>\n",
       "      <td>Brian</td>\n",
       "      <td>Hogan</td>\n",
       "      <td>M</td>\n",
       "      <td>3316 Cindy Land</td>\n",
       "      <td>...</td>\n",
       "      <td>34.2691</td>\n",
       "      <td>-95.9685</td>\n",
       "      <td>861</td>\n",
       "      <td>Quantity surveyor</td>\n",
       "      <td>1960-04-08</td>\n",
       "      <td>42b9fd6bc8b677586f94d8df5bde3b32</td>\n",
       "      <td>1355062524</td>\n",
       "      <td>33.292280</td>\n",
       "      <td>-95.276716</td>\n",
       "      <td>0</td>\n",
       "    </tr>\n",
       "    <tr>\n",
       "      <th>1146509</th>\n",
       "      <td>1146509</td>\n",
       "      <td>2020-04-22 16:37:41</td>\n",
       "      <td>6011652924285713</td>\n",
       "      <td>fraud_Bins, Balistreri and Beatty</td>\n",
       "      <td>shopping_pos</td>\n",
       "      <td>377.42</td>\n",
       "      <td>Kathryn</td>\n",
       "      <td>Smith</td>\n",
       "      <td>F</td>\n",
       "      <td>19838 Tonya Prairie Apt. 947</td>\n",
       "      <td>...</td>\n",
       "      <td>38.2911</td>\n",
       "      <td>-92.7059</td>\n",
       "      <td>1847</td>\n",
       "      <td>Tax inspector</td>\n",
       "      <td>1988-10-26</td>\n",
       "      <td>3fea161d81e6861bb7c3c4f1aa3fc01d</td>\n",
       "      <td>1366648661</td>\n",
       "      <td>37.471702</td>\n",
       "      <td>-92.949396</td>\n",
       "      <td>0</td>\n",
       "    </tr>\n",
       "    <tr>\n",
       "      <th>365961</th>\n",
       "      <td>365961</td>\n",
       "      <td>2019-06-18 17:28:29</td>\n",
       "      <td>4427805710168</td>\n",
       "      <td>fraud_Turner, Ruecker and Parisian</td>\n",
       "      <td>misc_pos</td>\n",
       "      <td>3.51</td>\n",
       "      <td>Michelle</td>\n",
       "      <td>Rodriguez</td>\n",
       "      <td>F</td>\n",
       "      <td>1742 Brandon Squares Apt. 461</td>\n",
       "      <td>...</td>\n",
       "      <td>33.3305</td>\n",
       "      <td>-105.6933</td>\n",
       "      <td>8874</td>\n",
       "      <td>Licensed conveyancer</td>\n",
       "      <td>2000-08-16</td>\n",
       "      <td>28f8223c4d06942630229f5cf95bd20f</td>\n",
       "      <td>1340040509</td>\n",
       "      <td>33.061694</td>\n",
       "      <td>-105.163576</td>\n",
       "      <td>0</td>\n",
       "    </tr>\n",
       "    <tr>\n",
       "      <th>108876</th>\n",
       "      <td>108876</td>\n",
       "      <td>2019-03-03 17:07:37</td>\n",
       "      <td>3587960728692500</td>\n",
       "      <td>fraud_Bednar Inc</td>\n",
       "      <td>travel</td>\n",
       "      <td>6.56</td>\n",
       "      <td>Kathy</td>\n",
       "      <td>Hughes</td>\n",
       "      <td>F</td>\n",
       "      <td>02110 Lucas Freeway Suite 517</td>\n",
       "      <td>...</td>\n",
       "      <td>42.3327</td>\n",
       "      <td>-95.6045</td>\n",
       "      <td>1075</td>\n",
       "      <td>Teacher, early years/pre</td>\n",
       "      <td>1997-01-02</td>\n",
       "      <td>9e7ddd6e6110af47496ffc072a60542b</td>\n",
       "      <td>1330794457</td>\n",
       "      <td>42.675881</td>\n",
       "      <td>-95.851808</td>\n",
       "      <td>0</td>\n",
       "    </tr>\n",
       "    <tr>\n",
       "      <th>179499</th>\n",
       "      <td>179499</td>\n",
       "      <td>2019-04-03 23:51:32</td>\n",
       "      <td>4169759661243568</td>\n",
       "      <td>fraud_Prosacco LLC</td>\n",
       "      <td>personal_care</td>\n",
       "      <td>18.68</td>\n",
       "      <td>Jamie</td>\n",
       "      <td>Carr</td>\n",
       "      <td>F</td>\n",
       "      <td>55363 Aaron Circle Suite 450</td>\n",
       "      <td>...</td>\n",
       "      <td>40.2236</td>\n",
       "      <td>-76.5380</td>\n",
       "      <td>213</td>\n",
       "      <td>Special educational needs teacher</td>\n",
       "      <td>1972-02-15</td>\n",
       "      <td>fc774e419f6c19c6889ea4f2587f0b94</td>\n",
       "      <td>1333497092</td>\n",
       "      <td>40.487205</td>\n",
       "      <td>-76.341073</td>\n",
       "      <td>0</td>\n",
       "    </tr>\n",
       "    <tr>\n",
       "      <th>311980</th>\n",
       "      <td>311980</td>\n",
       "      <td>2019-05-31 04:08:34</td>\n",
       "      <td>4457732997086323466</td>\n",
       "      <td>fraud_Price Inc</td>\n",
       "      <td>shopping_net</td>\n",
       "      <td>85.75</td>\n",
       "      <td>Stanley</td>\n",
       "      <td>Mayo</td>\n",
       "      <td>M</td>\n",
       "      <td>3433 Jones Branch</td>\n",
       "      <td>...</td>\n",
       "      <td>38.5234</td>\n",
       "      <td>-120.6763</td>\n",
       "      <td>832</td>\n",
       "      <td>Immigration officer</td>\n",
       "      <td>1987-05-19</td>\n",
       "      <td>a33a1b206222280d528edfbf994556b7</td>\n",
       "      <td>1338437314</td>\n",
       "      <td>39.296078</td>\n",
       "      <td>-121.250963</td>\n",
       "      <td>0</td>\n",
       "    </tr>\n",
       "    <tr>\n",
       "      <th>556014</th>\n",
       "      <td>556014</td>\n",
       "      <td>2019-08-25 13:49:10</td>\n",
       "      <td>4301028321766222513</td>\n",
       "      <td>fraud_Pouros, Walker and Spencer</td>\n",
       "      <td>kids_pets</td>\n",
       "      <td>46.54</td>\n",
       "      <td>Joe</td>\n",
       "      <td>Howard</td>\n",
       "      <td>M</td>\n",
       "      <td>109 Brian Lights Apt. 504</td>\n",
       "      <td>...</td>\n",
       "      <td>40.6025</td>\n",
       "      <td>-80.3863</td>\n",
       "      <td>198</td>\n",
       "      <td>Secretary/administrator</td>\n",
       "      <td>1978-10-26</td>\n",
       "      <td>24388ca1902807be7905cd9252918121</td>\n",
       "      <td>1345902550</td>\n",
       "      <td>41.187049</td>\n",
       "      <td>-79.783423</td>\n",
       "      <td>0</td>\n",
       "    </tr>\n",
       "    <tr>\n",
       "      <th>629979</th>\n",
       "      <td>629979</td>\n",
       "      <td>2019-09-24 20:12:17</td>\n",
       "      <td>30235268718158</td>\n",
       "      <td>fraud_Botsford PLC</td>\n",
       "      <td>home</td>\n",
       "      <td>22.24</td>\n",
       "      <td>Kenneth</td>\n",
       "      <td>Doyle</td>\n",
       "      <td>M</td>\n",
       "      <td>8614 Reed Glen</td>\n",
       "      <td>...</td>\n",
       "      <td>41.0592</td>\n",
       "      <td>-73.7395</td>\n",
       "      <td>11250</td>\n",
       "      <td>Lexicographer</td>\n",
       "      <td>1977-08-16</td>\n",
       "      <td>a9c0a0fa30ce57a7a7d525fdc2dc25fb</td>\n",
       "      <td>1348517537</td>\n",
       "      <td>40.538411</td>\n",
       "      <td>-74.247859</td>\n",
       "      <td>0</td>\n",
       "    </tr>\n",
       "  </tbody>\n",
       "</table>\n",
       "<p>10 rows × 23 columns</p>\n",
       "</div>"
      ],
      "text/plain": [
       "         Unnamed: 0 trans_date_trans_time               cc_num  \\\n",
       "617408       617408   2019-09-19 19:01:54     3566094707272327   \n",
       "266031       266031   2019-05-12 08:26:22      213112402583773   \n",
       "824888       824888   2019-12-09 14:15:24     4972228199573984   \n",
       "1146509     1146509   2020-04-22 16:37:41     6011652924285713   \n",
       "365961       365961   2019-06-18 17:28:29        4427805710168   \n",
       "108876       108876   2019-03-03 17:07:37     3587960728692500   \n",
       "179499       179499   2019-04-03 23:51:32     4169759661243568   \n",
       "311980       311980   2019-05-31 04:08:34  4457732997086323466   \n",
       "556014       556014   2019-08-25 13:49:10  4301028321766222513   \n",
       "629979       629979   2019-09-24 20:12:17       30235268718158   \n",
       "\n",
       "                                     merchant       category     amt  \\\n",
       "617408                  fraud_Crooks and Sons  personal_care   38.80   \n",
       "266031   fraud_Stokes, Christiansen and Sipes    grocery_net   96.73   \n",
       "824888                        fraud_Rau-Robel      kids_pets  227.59   \n",
       "1146509     fraud_Bins, Balistreri and Beatty   shopping_pos  377.42   \n",
       "365961     fraud_Turner, Ruecker and Parisian       misc_pos    3.51   \n",
       "108876                       fraud_Bednar Inc         travel    6.56   \n",
       "179499                     fraud_Prosacco LLC  personal_care   18.68   \n",
       "311980                        fraud_Price Inc   shopping_net   85.75   \n",
       "556014       fraud_Pouros, Walker and Spencer      kids_pets   46.54   \n",
       "629979                     fraud_Botsford PLC           home   22.24   \n",
       "\n",
       "            first       last gender                         street  ...  \\\n",
       "617408   Kristina    Stewart      F    47029 Jimmy Tunnel Apt. 106  ...   \n",
       "266031        Ana     Howell      F  4664 Sanchez Common Suite 930  ...   \n",
       "824888      Brian      Hogan      M                3316 Cindy Land  ...   \n",
       "1146509   Kathryn      Smith      F   19838 Tonya Prairie Apt. 947  ...   \n",
       "365961   Michelle  Rodriguez      F  1742 Brandon Squares Apt. 461  ...   \n",
       "108876      Kathy     Hughes      F  02110 Lucas Freeway Suite 517  ...   \n",
       "179499      Jamie       Carr      F   55363 Aaron Circle Suite 450  ...   \n",
       "311980    Stanley       Mayo      M              3433 Jones Branch  ...   \n",
       "556014        Joe     Howard      M      109 Brian Lights Apt. 504  ...   \n",
       "629979    Kenneth      Doyle      M                 8614 Reed Glen  ...   \n",
       "\n",
       "             lat      long  city_pop                                     job  \\\n",
       "617408   34.3795 -118.5230     34882                        Health physicist   \n",
       "266031   34.0326  -82.2027      1523  Research scientist (physical sciences)   \n",
       "824888   34.2691  -95.9685       861                       Quantity surveyor   \n",
       "1146509  38.2911  -92.7059      1847                           Tax inspector   \n",
       "365961   33.3305 -105.6933      8874                    Licensed conveyancer   \n",
       "108876   42.3327  -95.6045      1075                Teacher, early years/pre   \n",
       "179499   40.2236  -76.5380       213       Special educational needs teacher   \n",
       "311980   38.5234 -120.6763       832                     Immigration officer   \n",
       "556014   40.6025  -80.3863       198                 Secretary/administrator   \n",
       "629979   41.0592  -73.7395     11250                           Lexicographer   \n",
       "\n",
       "                dob                         trans_num   unix_time  merch_lat  \\\n",
       "617408   1971-04-25  68bc663ed9e0df6ad4b7df4bb007adbc  1348081314  33.837654   \n",
       "266031   1984-06-03  ad7df921e8eb780f3b39f6fe05cc6433  1336811182  33.813007   \n",
       "824888   1960-04-08  42b9fd6bc8b677586f94d8df5bde3b32  1355062524  33.292280   \n",
       "1146509  1988-10-26  3fea161d81e6861bb7c3c4f1aa3fc01d  1366648661  37.471702   \n",
       "365961   2000-08-16  28f8223c4d06942630229f5cf95bd20f  1340040509  33.061694   \n",
       "108876   1997-01-02  9e7ddd6e6110af47496ffc072a60542b  1330794457  42.675881   \n",
       "179499   1972-02-15  fc774e419f6c19c6889ea4f2587f0b94  1333497092  40.487205   \n",
       "311980   1987-05-19  a33a1b206222280d528edfbf994556b7  1338437314  39.296078   \n",
       "556014   1978-10-26  24388ca1902807be7905cd9252918121  1345902550  41.187049   \n",
       "629979   1977-08-16  a9c0a0fa30ce57a7a7d525fdc2dc25fb  1348517537  40.538411   \n",
       "\n",
       "         merch_long  is_fraud  \n",
       "617408  -117.783016         0  \n",
       "266031   -81.242100         0  \n",
       "824888   -95.276716         0  \n",
       "1146509  -92.949396         0  \n",
       "365961  -105.163576         0  \n",
       "108876   -95.851808         0  \n",
       "179499   -76.341073         0  \n",
       "311980  -121.250963         0  \n",
       "556014   -79.783423         0  \n",
       "629979   -74.247859         0  \n",
       "\n",
       "[10 rows x 23 columns]"
      ]
     },
     "execution_count": 4,
     "metadata": {},
     "output_type": "execute_result"
    }
   ],
   "source": [
    "# View random rows in the dataset\n",
    "card_transactions.sample(n=10)"
   ]
  },
  {
   "cell_type": "code",
   "execution_count": 5,
   "id": "3c9a85dc",
   "metadata": {},
   "outputs": [
    {
     "name": "stdout",
     "output_type": "stream",
     "text": [
      "\n",
      "Missing Values:\n",
      "Unnamed: 0               0\n",
      "trans_date_trans_time    0\n",
      "cc_num                   0\n",
      "merchant                 0\n",
      "category                 0\n",
      "amt                      0\n",
      "first                    0\n",
      "last                     0\n",
      "gender                   0\n",
      "street                   0\n",
      "city                     0\n",
      "state                    0\n",
      "zip                      0\n",
      "lat                      0\n",
      "long                     0\n",
      "city_pop                 0\n",
      "job                      0\n",
      "dob                      0\n",
      "trans_num                0\n",
      "unix_time                0\n",
      "merch_lat                0\n",
      "merch_long               0\n",
      "is_fraud                 0\n",
      "dtype: int64\n"
     ]
    }
   ],
   "source": [
    "# Checking for missing values\n",
    "print(\"\\nMissing Values:\")\n",
    "print(card_transactions.isnull().sum())"
   ]
  },
  {
   "cell_type": "raw",
   "id": "b591fa3c",
   "metadata": {},
   "source": [
    "This shows that there is no missing values"
   ]
  },
  {
   "cell_type": "code",
   "execution_count": 6,
   "id": "cfb05e42",
   "metadata": {},
   "outputs": [
    {
     "name": "stdout",
     "output_type": "stream",
     "text": [
      "'Unnamed: 0' column dropped.\n"
     ]
    }
   ],
   "source": [
    "# Dropping the column called unnamed\n",
    "card_transactions = card_transactions.drop(columns=['Unnamed: 0'])\n",
    "print(\"'Unnamed: 0' column dropped.\")\n"
   ]
  },
  {
   "cell_type": "code",
   "execution_count": 7,
   "id": "5f181928",
   "metadata": {},
   "outputs": [],
   "source": [
    "# Let's convert datetime to numerical values\n",
    "card_transactions['trans_date_trans_time'] = pd.to_datetime(card_transactions['trans_date_trans_time'])\n",
    "card_transactions['hour'] = card_transactions['trans_date_trans_time'].dt.hour\n",
    "card_transactions['day'] = card_transactions['trans_date_trans_time'].dt.day\n",
    "card_transactions['month'] = card_transactions['trans_date_trans_time'].dt.month\n",
    "card_transactions['year'] = card_transactions['trans_date_trans_time'].dt.year"
   ]
  },
  {
   "cell_type": "code",
   "execution_count": 8,
   "id": "3c940d36",
   "metadata": {},
   "outputs": [],
   "source": [
    "# let's convert categorical variables using Label Encoding\n",
    "label_encoders = {}\n",
    "categorical_columns = ['merchant', 'category', 'gender', 'state', 'job']\n",
    "for col in categorical_columns:\n",
    "    label_encoder = LabelEncoder()\n",
    "    card_transactions[col] = label_encoder.fit_transform(card_transactions[col])"
   ]
  },
  {
   "cell_type": "code",
   "execution_count": 9,
   "id": "1dbcd2a6",
   "metadata": {},
   "outputs": [],
   "source": [
    "# Saving the label encoder so we can use it on the new data\n",
    "with open(\"label_encoders.pkl\", \"wb\") as f:\n",
    "    pickle.dump(label_encoders, f)"
   ]
  },
  {
   "cell_type": "code",
   "execution_count": 10,
   "id": "998e39a2",
   "metadata": {},
   "outputs": [],
   "source": [
    "# Dropping columns that we do not need\n",
    "columns_to_drop = ['trans_date_trans_time', 'cc_num', 'first', 'last', 'street', \n",
    "                   'city', 'zip', 'trans_num', 'dob', 'unix_time']\n",
    "\n",
    "card_transactions = card_transactions.drop(columns=columns_to_drop, axis=1)"
   ]
  },
  {
   "cell_type": "code",
   "execution_count": 11,
   "id": "fcf5fb5a",
   "metadata": {},
   "outputs": [
    {
     "data": {
      "text/plain": [
       "Index(['merchant', 'category', 'amt', 'gender', 'state', 'lat', 'long',\n",
       "       'city_pop', 'job', 'merch_lat', 'merch_long', 'is_fraud', 'hour', 'day',\n",
       "       'month', 'year'],\n",
       "      dtype='object')"
      ]
     },
     "execution_count": 11,
     "metadata": {},
     "output_type": "execute_result"
    }
   ],
   "source": [
    "# Let's print the columns in the dataset now\n",
    "card_transactions.columns"
   ]
  },
  {
   "cell_type": "code",
   "execution_count": 12,
   "id": "112caa67",
   "metadata": {},
   "outputs": [],
   "source": [
    "# Features scaling\n",
    "scaler = StandardScaler()\n",
    "scaled_features = scaler.fit_transform(card_transactions.drop('is_fraud', axis=1))"
   ]
  },
  {
   "cell_type": "code",
   "execution_count": 13,
   "id": "d6bd0db0",
   "metadata": {},
   "outputs": [],
   "source": [
    "# Splitting the dataset into target and feaures\n",
    "features = scaled_features\n",
    "target = card_transactions['is_fraud']\n",
    "\n",
    "# 80% training and 20% testing\n",
    "features_train, features_test, target_train, target_test = train_test_split(features, target, test_size=0.2, random_state=42)"
   ]
  },
  {
   "cell_type": "code",
   "execution_count": 14,
   "id": "85733a5b",
   "metadata": {},
   "outputs": [
    {
     "data": {
      "image/png": "[encoded data removed]",
      "text/plain": [
       "<Figure size 600x400 with 1 Axes>"
      ]
     },
     "metadata": {},
     "output_type": "display_data"
    }
   ],
   "source": [
    "# Distribution of the target variable 'is_fraud'\n",
    "plt.figure(figsize=(6, 4))\n",
    "sns.countplot(x='is_fraud', data=card_transactions)\n",
    "plt.title('Distribution of Fraud and Non-Fraud Transactions')\n",
    "plt.show()"
   ]
  },
  {
   "cell_type": "code",
   "execution_count": 15,
   "id": "e1be5614",
   "metadata": {},
   "outputs": [
    {
     "data": {
      "image/png": "[encoded data removed]",
      "text/plain": [
       "<Figure size 1000x800 with 2 Axes>"
      ]
     },
     "metadata": {},
     "output_type": "display_data"
    }
   ],
   "source": [
    "# Correlation heatmap\n",
    "plt.figure(figsize=(10, 8))\n",
    "sns.heatmap(card_transactions.corr(), annot=True, cmap='coolwarm', fmt='.2f')\n",
    "plt.title('Correlation Heatmap of Numerical Features')\n",
    "plt.show()"
   ]
  },
  {
   "cell_type": "code",
   "execution_count": 16,
   "id": "befe3b7c",
   "metadata": {},
   "outputs": [
    {
     "data": {
      "text/html": [
       "<style>#sk-container-id-1 {color: black;background-color: white;}#sk-container-id-1 pre{padding: 0;}#sk-container-id-1 div.sk-toggleable {background-color: white;}#sk-container-id-1 label.sk-toggleable__label {cursor: pointer;display: block;width: 100%;margin-bottom: 0;padding: 0.3em;box-sizing: border-box;text-align: center;}#sk-container-id-1 label.sk-toggleable__label-arrow:before {content: \"▸\";float: left;margin-right: 0.25em;color: #696969;}#sk-container-id-1 label.sk-toggleable__label-arrow:hover:before {color: black;}#sk-container-id-1 div.sk-estimator:hover label.sk-toggleable__label-arrow:before {color: black;}#sk-container-id-1 div.sk-toggleable__content {max-height: 0;max-width: 0;overflow: hidden;text-align: left;background-color: #f0f8ff;}#sk-container-id-1 div.sk-toggleable__content pre {margin: 0.2em;color: black;border-radius: 0.25em;background-color: #f0f8ff;}#sk-container-id-1 input.sk-toggleable__control:checked~div.sk-toggleable__content {max-height: 200px;max-width: 100%;overflow: auto;}#sk-container-id-1 input.sk-toggleable__control:checked~label.sk-toggleable__label-arrow:before {content: \"▾\";}#sk-container-id-1 div.sk-estimator input.sk-toggleable__control:checked~label.sk-toggleable__label {background-color: #d4ebff;}#sk-container-id-1 div.sk-label input.sk-toggleable__control:checked~label.sk-toggleable__label {background-color: #d4ebff;}#sk-container-id-1 input.sk-hidden--visually {border: 0;clip: rect(1px 1px 1px 1px);clip: rect(1px, 1px, 1px, 1px);height: 1px;margin: -1px;overflow: hidden;padding: 0;position: absolute;width: 1px;}#sk-container-id-1 div.sk-estimator {font-family: monospace;background-color: #f0f8ff;border: 1px dotted black;border-radius: 0.25em;box-sizing: border-box;margin-bottom: 0.5em;}#sk-container-id-1 div.sk-estimator:hover {background-color: #d4ebff;}#sk-container-id-1 div.sk-parallel-item::after {content: \"\";width: 100%;border-bottom: 1px solid gray;flex-grow: 1;}#sk-container-id-1 div.sk-label:hover label.sk-toggleable__label {background-color: #d4ebff;}#sk-container-id-1 div.sk-serial::before {content: \"\";position: absolute;border-left: 1px solid gray;box-sizing: border-box;top: 0;bottom: 0;left: 50%;z-index: 0;}#sk-container-id-1 div.sk-serial {display: flex;flex-direction: column;align-items: center;background-color: white;padding-right: 0.2em;padding-left: 0.2em;position: relative;}#sk-container-id-1 div.sk-item {position: relative;z-index: 1;}#sk-container-id-1 div.sk-parallel {display: flex;align-items: stretch;justify-content: center;background-color: white;position: relative;}#sk-container-id-1 div.sk-item::before, #sk-container-id-1 div.sk-parallel-item::before {content: \"\";position: absolute;border-left: 1px solid gray;box-sizing: border-box;top: 0;bottom: 0;left: 50%;z-index: -1;}#sk-container-id-1 div.sk-parallel-item {display: flex;flex-direction: column;z-index: 1;position: relative;background-color: white;}#sk-container-id-1 div.sk-parallel-item:first-child::after {align-self: flex-end;width: 50%;}#sk-container-id-1 div.sk-parallel-item:last-child::after {align-self: flex-start;width: 50%;}#sk-container-id-1 div.sk-parallel-item:only-child::after {width: 0;}#sk-container-id-1 div.sk-dashed-wrapped {border: 1px dashed gray;margin: 0 0.4em 0.5em 0.4em;box-sizing: border-box;padding-bottom: 0.4em;background-color: white;}#sk-container-id-1 div.sk-label label {font-family: monospace;font-weight: bold;display: inline-block;line-height: 1.2em;}#sk-container-id-1 div.sk-label-container {text-align: center;}#sk-container-id-1 div.sk-container {/* jupyter's `normalize.less` sets `[hidden] { display: none; }` but bootstrap.min.css set `[hidden] { display: none !important; }` so we also need the `!important` here to be able to override the default hidden behavior on the sphinx rendered scikit-learn.org. See: https://github.com/scikit-learn/scikit-learn/issues/21755 */display: inline-block !important;position: relative;}#sk-container-id-1 div.sk-text-repr-fallback {display: none;}</style><div id=\"sk-container-id-1\" class=\"sk-top-container\"><div class=\"sk-text-repr-fallback\"><pre>LogisticRegression()</pre><b>In a Jupyter environment, please rerun this cell to show the HTML representation or trust the notebook. <br />On GitHub, the HTML representation is unable to render, please try loading this page with nbviewer.org.</b></div><div class=\"sk-container\" hidden><div class=\"sk-item\"><div class=\"sk-estimator sk-toggleable\"><input class=\"sk-toggleable__control sk-hidden--visually\" id=\"sk-estimator-id-1\" type=\"checkbox\" checked><label for=\"sk-estimator-id-1\" class=\"sk-toggleable__label sk-toggleable__label-arrow\">LogisticRegression</label><div class=\"sk-toggleable__content\"><pre>LogisticRegression()</pre></div></div></div></div></div>"
      ],
      "text/plain": [
       "LogisticRegression()"
      ]
     },
     "execution_count": 16,
     "metadata": {},
     "output_type": "execute_result"
    }
   ],
   "source": [
    "# Model training\n",
    "model = LogisticRegression()\n",
    "model.fit(features_train, target_train)"
   ]
  },
  {
   "cell_type": "code",
   "execution_count": 17,
   "id": "3d0422e4",
   "metadata": {},
   "outputs": [
    {
     "name": "stdout",
     "output_type": "stream",
     "text": [
      "\n",
      "Confusion Matrix:\n",
      "[[257671    144]\n",
      " [  1520      0]]\n",
      "\n",
      "Classification Report:\n",
      "              precision    recall  f1-score   support\n",
      "\n",
      "           0       0.99      1.00      1.00    257815\n",
      "           1       0.00      0.00      0.00      1520\n",
      "\n",
      "    accuracy                           0.99    259335\n",
      "   macro avg       0.50      0.50      0.50    259335\n",
      "weighted avg       0.99      0.99      0.99    259335\n",
      "\n",
      "\n",
      "Accuracy Score:\n",
      "0.9935835887944164\n"
     ]
    }
   ],
   "source": [
    "# Model evaluation\n",
    "target_pred = model.predict(features_test)\n",
    "\n",
    "# Model performance\n",
    "print(\"\\nConfusion Matrix:\")\n",
    "print(confusion_matrix(target_test, target_pred))\n",
    "print(\"\\nClassification Report:\")\n",
    "print(classification_report(target_test, target_pred))\n",
    "print(\"\\nAccuracy Score:\")\n",
    "print(accuracy_score(target_test, target_pred))"
   ]
  },
  {
   "cell_type": "code",
   "execution_count": 18,
   "id": "f7cbf6a0",
   "metadata": {},
   "outputs": [
    {
     "data": {
      "image/png": "[encoded data removed]",
      "text/plain": [
       "<Figure size 600x600 with 2 Axes>"
      ]
     },
     "metadata": {},
     "output_type": "display_data"
    }
   ],
   "source": [
    "# Confusion Matrix Heatmap\n",
    "# Generate confusion matrix\n",
    "conf_matrix = confusion_matrix(target_test, target_pred)\n",
    "\n",
    "# Plotting confusion matrix heatmap\n",
    "plt.figure(figsize=(6, 6))\n",
    "sns.heatmap(conf_matrix, annot=True, fmt='d', cmap='Blues', xticklabels=['Non-Fraud', 'Fraud'], yticklabels=['Non-Fraud', 'Fraud'])\n",
    "plt.title('Confusion Matrix')\n",
    "plt.xlabel('Predicted')\n",
    "plt.ylabel('True')\n",
    "plt.show()"
   ]
  }
 ],
 "metadata": {
  "kernelspec": {
   "display_name": "Python 3 (ipykernel)",
   "language": "python",
   "name": "python3"
  },
  "language_info": {
   "codemirror_mode": {
    "name": "ipython",
    "version": 3
   },
   "file_extension": ".py",
   "mimetype": "text/x-python",
   "name": "python",
   "nbconvert_exporter": "python",
   "pygments_lexer": "ipython3",
   "version": "3.11.7"
  }
 },
 "nbformat": 4,
 "nbformat_minor": 5
}
